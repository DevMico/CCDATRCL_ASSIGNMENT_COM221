{
  "cells": [
    {
      "cell_type": "markdown",
      "metadata": {
        "colab_type": "text",
        "id": "view-in-github"
      },
      "source": [
        "<a href=\"https://colab.research.google.com/github/robitussin/CCDATRCL_EXERCISES/blob/main/exercise7.ipynb\" target=\"_parent\"><img src=\"https://colab.research.google.com/assets/colab-badge.svg\" alt=\"Open In Colab\"/></a>"
      ]
    },
    {
      "cell_type": "markdown",
      "metadata": {
        "id": "e3Ja3uozAJlw"
      },
      "source": [
        "# Exercise 7"
      ]
    },
    {
      "cell_type": "code",
      "execution_count": 3,
      "metadata": {
        "id": "IW6uTwU8AJly"
      },
      "outputs": [],
      "source": [
        "class Node:\n",
        "    def __init__(self, item):\n",
        "        self.left = None\n",
        "        self.right = None\n",
        "        self.val = item"
      ]
    },
    {
      "cell_type": "code",
      "execution_count": 4,
      "metadata": {
        "id": "uxVFuimIAJlz"
      },
      "outputs": [],
      "source": [
        "def evaluateExpressionTree(root):\n",
        "\n",
        "    # empty tree\n",
        "    if root is None:\n",
        "        return 0\n",
        "\n",
        "    # leaf node\n",
        "    if root.left is None and root.right is None:\n",
        "        return int(root.val)\n",
        "\n",
        "    # evaluate left tree\n",
        "    left_sum = evaluateExpressionTree(root.left)\n",
        "\n",
        "    # evaluate right tree\n",
        "    right_sum = evaluateExpressionTree(root.right)\n",
        "\n",
        "    # check which operation to apply\n",
        "    if root.val == '+':\n",
        "        return left_sum + right_sum\n",
        "\n",
        "    elif root.val == '-':\n",
        "        return left_sum - right_sum\n",
        "\n",
        "    elif root.val == '*':\n",
        "        return left_sum * right_sum\n",
        "\n",
        "    else:\n",
        "        return left_sum / right_sum"
      ]
    },
    {
      "cell_type": "code",
      "execution_count": 5,
      "metadata": {
        "id": "-xWZXA-mAJl0"
      },
      "outputs": [],
      "source": [
        "def inorder(root):\n",
        "\n",
        "    if root:\n",
        "        # Traverse left\n",
        "        inorder(root.left)\n",
        "        # Traverse root\n",
        "        print(str(root.val) + \"->\", end='')\n",
        "        # Traverse right\n",
        "        inorder(root.right)"
      ]
    },
    {
      "cell_type": "markdown",
      "metadata": {
        "id": "CVtqxh5DAJl1"
      },
      "source": [
        "#### 1. Construct a binary expression tree\n",
        "\n",
        "\n",
        "- Use the evaluateExpressionTree method to get the result of the expression\n",
        "- Use the inorder method to traverse the tree  \n",
        "\n",
        "$$ (8 + 4) * (7 - 9) $$"
      ]
    },
    {
      "cell_type": "code",
      "execution_count": 12,
      "metadata": {
        "id": "CxpP0zcVAJl1"
      },
      "outputs": [
        {
          "name": "stdout",
          "output_type": "stream",
          "text": [
            "8->+->4->*->7->-->9->"
          ]
        }
      ],
      "source": [
        "# put your answer here\n",
        "\n",
        "root1 = Node(\"+\")\n",
        "node1 = Node(\"8\")\n",
        "node2 = Node(\"4\")\n",
        "\n",
        "root1.left = node1\n",
        "root1.right = node2\n",
        "\n",
        "root2 = Node(\"-\")\n",
        "r2node1 = Node(\"7\")\n",
        "r2node2 = Node(\"9\")\n",
        "\n",
        "root2.left = r2node1\n",
        "root2.right = r2node2\n",
        "\n",
        "root3 = Node(\"*\")\n",
        "root3.left = root1\n",
        "root3.right = root2\n",
        "\n",
        "evaluateExpressionTree(root3)\n",
        "\n",
        "inorder(root3)\n"
      ]
    },
    {
      "cell_type": "markdown",
      "metadata": {
        "id": "jc5KHLk6AJl2"
      },
      "source": [
        "#### 2. Construct a binary expression tree\n",
        "\n",
        "- Use the evaluateExpressionTree method to get the result of the expression\n",
        "- Use the inorder method to traverse the tree  \n",
        "\n",
        "$$ 5 / 8 + 3 - 6 * 1 $$"
      ]
    },
    {
      "cell_type": "code",
      "execution_count": 17,
      "metadata": {
        "id": "XORzqkC3AJl2"
      },
      "outputs": [
        {
          "name": "stdout",
          "output_type": "stream",
          "text": [
            "5->/->8->+->3->-->6->*->1->"
          ]
        }
      ],
      "source": [
        "# put your answer here\n",
        "\n",
        "root1_2 = Node(\"/\")\n",
        "# r1node1 = Node(\"5\")\n",
        "# r1node2 = Node(\"8\")\n",
        "root1_2.left = Node(\"5\")\n",
        "root1_2.right = Node(\"8\")\n",
        "\n",
        "root2_2 = Node(\"+\")\n",
        "root2_2.left = root1_2\n",
        "root2_2.right = Node(\"3\")\n",
        "\n",
        "root3_2 = Node(\"*\")\n",
        "root3_2.left = Node(\"6\")\n",
        "root3_2.right = Node(\"1\")\n",
        "\n",
        "root4_2 = Node(\"-\")\n",
        "root4_2.left = root2_2\n",
        "root4_2.right = root3_2\n",
        "\n",
        "evaluateExpressionTree(root4_2)\n",
        "inorder(root4_2)\n"
      ]
    },
    {
      "cell_type": "markdown",
      "metadata": {
        "id": "tu3n5ZdWAJl2"
      },
      "source": [
        "#### 3. Construct a binary expression tree\n",
        "\n",
        "- Use the evaluateExpressionTree method to get the result of the expression\n",
        "- Use the inorder method to traverse the tree  \n",
        "\n",
        "$$ ((2 + 5) / 3)- (3 + 8) $$"
      ]
    },
    {
      "cell_type": "code",
      "execution_count": 6,
      "metadata": {
        "id": "5GvZBxgtAJl3"
      },
      "outputs": [
        {
          "name": "stdout",
          "output_type": "stream",
          "text": [
            "2->+->5->/->3->-->3->+->8->"
          ]
        }
      ],
      "source": [
        "# put your answer here\n",
        "root1_3 = Node(\"+\")\n",
        "root1_3.left = Node(\"2\")\n",
        "root1_3.right = Node(\"5\")\n",
        "\n",
        "root2_3 = Node(\"/\")\n",
        "root2_3.left = root1_3\n",
        "root2_3.right = Node(\"3\")\n",
        "\n",
        "root3_3 = Node(\"+\")\n",
        "root3_3.left = Node(\"3\")\n",
        "root3_3.right = Node(\"8\")\n",
        "\n",
        "root4_3 = Node(\"-\")\n",
        "root4_3.left = root2_3\n",
        "root4_3.right = root3_3\n",
        "\n",
        "evaluateExpressionTree(root4_3)\n",
        "inorder(root4_3)\n"
      ]
    }
  ],
  "metadata": {
    "colab": {
      "include_colab_link": true,
      "provenance": []
    },
    "kernelspec": {
      "display_name": "Python 3",
      "language": "python",
      "name": "python3"
    },
    "language_info": {
      "codemirror_mode": {
        "name": "ipython",
        "version": 3
      },
      "file_extension": ".py",
      "mimetype": "text/x-python",
      "name": "python",
      "nbconvert_exporter": "python",
      "pygments_lexer": "ipython3",
      "version": "3.11.3"
    },
    "orig_nbformat": 4
  },
  "nbformat": 4,
  "nbformat_minor": 0
}
