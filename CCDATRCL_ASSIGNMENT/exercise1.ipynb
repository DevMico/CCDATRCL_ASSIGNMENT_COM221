class Node:

    def __init__(self, data):
        self.data = data
        self.next = None
        self.prev = None

class DoublyLinkedList:
    
    def __init__(self):
        self.head = None
        
    def traverse(self, node):
        while node:
            print(node.data, end=" -> ")
            node = node.next
            
doubly_linked_list = DoublyLinkedList()

doubly_linked_list.head = Node("Nicko")
node_b = Node("Andrew")
node_c = Node("Mico")
node_d = Node("Aldrin")
node_e = Node("Cristian")

doubly_linked_list.head.prev = None
doubly_linked_list.head.next = node_b

node_b.prev = doubly_linked_list.head
node_b.next = node_c

node_c.prev = node_b
node_c.next = node_d

node_d.prev = node_c
node_d.next = node_e

node_e.prev = node_d
node_e.next = None

print("value of head is :", doubly_linked_list.head.data)
print("value of next to head is :", doubly_linked_list.head.next.data)

print("---")

print("value of node_b is :", node_b.data)
print("value of previous of node_b is :", node_b.prev.data)
print("value of next of node_b is :", node_b.next.data)

print("---")

print("value of node_c is :", node_c.data)
print("value of previous of node_c is :", node_c.prev.data)
print("value of next of node_c is :", node_c.next.data)

print("---")

print("value of node_d is :", node_d.data)
print("value of previous of node_d is :", node_d.prev.data)
print("value of next of node_d is :", node_d.next.data)

print("---")

print("value of node_e is :", node_e.data)
print("value of previous of node_e is :", node_e.prev.data)



doubly_linked_list.traverse(doubly_linked_list.head)
