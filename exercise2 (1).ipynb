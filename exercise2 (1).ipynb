{
  "cells": [
    {
      "cell_type": "markdown",
      "metadata": {
        "id": "QNWAYtOH8JJM"
      },
      "source": [
        "# Exercise 2"
      ]
    },
    {
      "cell_type": "markdown",
      "metadata": {
        "id": "WqS_i0U78JJQ"
      },
      "source": [
        "#### Pre-defined stack functions"
      ]
    },
    {
      "cell_type": "code",
      "execution_count": null,
      "metadata": {
        "id": "Q55AdD2y8JJR"
      },
      "outputs": [],
      "source": [
        "# Creating a stack\n",
        "def create_stack():\n",
        "    stack = []\n",
        "    return stack\n",
        "\n",
        "def print_stack(stack):\n",
        "\n",
        "    if (check_empty(stack)):\n",
        "            return \"stack is empty\"\n",
        "\n",
        "    # Create a copy of the stack and reverse the elements\n",
        "    tempStack = stack.copy()\n",
        "    tempStack.reverse()\n",
        "\n",
        "    # Print all elements using a loop\n",
        "    for i in tempStack:\n",
        "        print(i)\n",
        "\n",
        "    # Delete the copy to free up memory\n",
        "    del tempStack\n",
        "\n",
        "# Creating an empty stack\n",
        "def check_empty(stack):\n",
        "    return len(stack) == 0\n",
        "\n",
        "\n",
        "# Adding items into the stack\n",
        "def push(stack, item):\n",
        "    stack.append(item)\n",
        "    print(\"pushed item: \" , item)\n",
        "\n",
        "\n",
        "# Removing an element from the stack\n",
        "def pop(stack):\n",
        "    if (check_empty(stack)):\n",
        "        return \"stack is empty\"\n",
        "\n",
        "    return stack.pop()\n",
        "\n",
        "def peek(stack):\n",
        "\n",
        "    # Use negative indexing to display the last element of the list\n",
        "    print(stack[-1])\n"
      ]
    },
    {
      "cell_type": "markdown",
      "metadata": {
        "id": "z5FA3bY38JJT"
      },
      "source": [
        "#### 1. Create a burger stack.  \n",
        "\n",
        "The output of the stack should be in this order:\n",
        "\n",
        "- Bun\n",
        "\n",
        "- Tomato\n",
        "\n",
        "- Lettuce\n",
        "\n",
        "- Cheese\n",
        "\n",
        "- Patty\n",
        "\n",
        "- Bun"
      ]
    },
    {
      "cell_type": "code",
      "execution_count": null,
      "metadata": {
        "id": "n6yPehQq8JJU"
      },
      "outputs": [],
      "source": [
        "# Put your answer here\n",
        "\n",
        "def create_burger():\n",
        "    ingredrients = [\"Bun\",\"Patty\",\"Cheese\",\"Lettuce\",\"Tomato\",\"Bun\"]\n",
        "    return ingredrients\n",
        "\n",
        "create_burger()\n"
      ]
    },
    {
      "cell_type": "markdown",
      "metadata": {
        "id": "W4XvryDA8JJU"
      },
      "source": [
        "#### 2. Reverse a string using a stack\n",
        "\n",
        "Given two stacks:\n",
        "\n",
        "**name_stack = ['E', 'L', 'I', 'Z', 'E', 'R', 'P', 'O', 'N', 'I', 'O', 'J', 'R']**\n",
        "\n",
        "**reversed_stack = []**\n",
        "\n",
        "Use your full name and pop each letter from the **name_stack** and push each element into the **reversed_stack**\n",
        "\n",
        "-----------------\n",
        "**Expected output:**\n",
        "\n",
        "print(reversed_stack)\n",
        "\n",
        "['R', 'J', 'O', 'I', 'N', 'O', 'P', 'R', 'E', 'Z', 'I', 'L', 'E']"
      ]
    },
    {
      "cell_type": "code",
      "execution_count": 30,
      "metadata": {
        "id": "BuPMzC-g8JJV"
      },
      "outputs": [
        {
          "data": {
            "text/plain": [
              "['O', 'L', 'I', 'N', 'A', 'R', 'O', 'C', 'I', 'M']"
            ]
          },
          "execution_count": 30,
          "metadata": {},
          "output_type": "execute_result"
        }
      ],
      "source": [
        "# put your answer here\n",
        "def reverse_name():\n",
        "    name = ['M','I','C','O','R','A','N','I','L','O']\n",
        "    name.reverse()\n",
        "    return name\n",
        "\n",
        "reverse_name()"
      ]
    },
    {
      "cell_type": "markdown",
      "metadata": {
        "id": "coRKfCPZ8JJV"
      },
      "source": [
        "#### 3. Remove elements using a stack\n",
        "\n",
        "Given this stack:\n",
        "\n",
        "numbers = [1,2,3,4,5,6,7,8,9,10]\n",
        "\n",
        "new_stack = []\n",
        "\n",
        "Using the **pop()** function, push elements in the **new_stack** if they are an **even number**\n",
        "\n",
        "-----------------\n",
        "\n",
        "**Expected output:**\n",
        "\n",
        "print(numbers)\n",
        "\n",
        "[2,4,6,8,10]"
      ]
    },
    {
      "cell_type": "code",
      "execution_count": 68,
      "metadata": {
        "id": "zTXYampp8JJV"
      },
      "outputs": [
        {
          "data": {
            "text/plain": [
              "[2, 4, 6, 8, 10]"
            ]
          },
          "execution_count": 68,
          "metadata": {},
          "output_type": "execute_result"
        }
      ],
      "source": [
        "# put your answer here\n",
        "\n",
        "def remove_numbers():\n",
        "    \n",
        "    numbers2 = [1,2,3,4,5,6,7,8,9,10]\n",
        "    \n",
        "    new_stack = []\n",
        "\n",
        "    while len(numbers2) > 0:\n",
        "        \n",
        "        num = numbers2.pop()\n",
        "    \n",
        "        if num % 2 == 0:\n",
        "            new_stack.append(num)\n",
        "    \n",
        "    evennums = new_stack.copy()\n",
        "    evennums.reverse()\n",
        "    \n",
        "    return evennums\n",
        "\n",
        "remove_numbers()\n",
        "\n",
        "\n",
        "            \n",
        "            \n"
      ]
    },
    {
      "cell_type": "markdown",
      "metadata": {
        "id": "1s4LGmuT8JJW"
      },
      "source": [
        "#### 4. Inserting elements into a stack\n",
        "\n",
        "Given two stacks:\n",
        "\n",
        "my_stack = ['E', 'L', 'I', 'Z', 'E', 'R', 'P', 'O', 'N', 'I', 'O', 'J', 'R']\n",
        "\n",
        "empty_stack = []\n",
        "\n",
        "Use **pop()** to get each element from  **my_stack** and use **push()** to insert the element to **empty_stack** only if:\n",
        "\n",
        "1. The element is a **vowel**\n",
        "2. The element does not exist in **empty_stack**\n",
        "\n",
        "----------------------\n",
        "\n",
        "**Expected output:**\n",
        "\n",
        "print_stack(empty_stack)\n",
        "\n",
        "['E', 'I', 'O']"
      ]
    },
    {
      "cell_type": "code",
      "execution_count": 17,
      "metadata": {
        "id": "cGXh7yd18JJW"
      },
      "outputs": [
        {
          "name": "stdout",
          "output_type": "stream",
          "text": [
            "Vowels in your name: ['A', 'I', 'O']\n"
          ]
        }
      ],
      "source": [
        "# put your answer here\n",
        "\n",
        "\n",
        "def extract_vowels():\n",
        "    name_stack = ['M','I','C','O','R','A','N','I','L','O']\n",
        "    vowel_stack = []\n",
        "\n",
        "    while len(name_stack) > 0:\n",
        "        \n",
        "        vowels = name_stack.pop()\n",
        "            \n",
        "        if vowels in ['A','a','E','e','I','i','O','o','U','u'] and vowels not in vowel_stack:\n",
        "            vowel_stack.append(vowels)\n",
        "            \n",
        "    vowel_stack.reverse()\n",
        "\n",
        "    return vowel_stack\n",
        "\n",
        "\n",
        "\n",
        "print(\"Vowels in your name:\", extract_vowels())\n"
      ]
    },
    {
      "cell_type": "markdown",
      "metadata": {
        "id": "cwtpya5m8JJX"
      },
      "source": [
        "#### 5. Sort elements in a stack\n",
        "\n",
        "Given two stacks:\n",
        "\n",
        "number_stack = [3,1,2]\n",
        "\n",
        "sorted_stack = []\n",
        "\n",
        "Create a **sort()** function to pop each element from the **number_stack** and push each element into the **sorted_stack**. The elements in **sorted_stack** must be in ascending order.\n",
        "\n",
        "----------------\n",
        "\n",
        "**Hint:**\n",
        "\n",
        "| iteration | number_stack | sorted_stack |\n",
        "| --- | --- | --- |\n",
        "| 1 | [3, 1, 2] | [] |\n",
        "| 2 | [3, 1] | [2] |\n",
        "| 3 | [3, 2] | [1] |\n",
        "| 4 | [3] | [1, 2] |\n",
        "| 5 | [] | [1, 2, 3] |\n",
        "\n",
        "**Expected output:**\n",
        "\n",
        "print(sorted_stack)\n",
        "\n",
        "[1, 2, 3]"
      ]
    },
    {
      "cell_type": "code",
      "execution_count": 32,
      "metadata": {
        "id": "XrLee2zo8JJX"
      },
      "outputs": [
        {
          "name": "stdout",
          "output_type": "stream",
          "text": [
            "[1, 2, 3, 4, 5, 7, 8, 9, 10]\n"
          ]
        }
      ],
      "source": [
        "# put your answer here\n",
        "\n",
        "def sort_stack():\n",
        "    \n",
        "    number_stack = [3,1,2]\n",
        "    \n",
        "    sorted_stack = []\n",
        "    \n",
        "    while len(number_stack) > 0:\n",
        "        \n",
        "        num1 = number_stack.pop()\n",
        "        \n",
        "        print(\"popped \", num1, \" from number_stack\")\n",
        "        \n",
        "        if len(sorted_stack) == 0:\n",
        "             \n",
        "             sorted_stack.append(num1)\n",
        "             \n",
        "             print(\"pushed \", num1 ,\" to sorted_stack\")\n",
        "             \n",
        "        elif len(sorted_stack) > 0:\n",
        "            \n",
        "            num2 = sorted_stack.pop()\n",
        "            \n",
        "            print(\"popped \", num2,\" from sorted_stack\")\n",
        "            \n",
        "            if num1 > num2:\n",
        "                \n",
        "                sorted_stack.append(num2)\n",
        "                \n",
        "                print(\"pushed \", num2 ,\" to sorted_stack\")\n",
        "                \n",
        "                sorted_stack.append(num1)\n",
        "                \n",
        "                print(\"pushed \", num1 ,\" to sorted_stack\")\n",
        "                \n",
        "            elif num1 < num2:\n",
        "                \n",
        "                number_stack.append(num2)\n",
        "                    \n",
        "                print(\"pushed \", num2 ,\" to number_stack\")\n",
        "                    \n",
        "                sorted_stack.append(num1)\n",
        "                \n",
        "                print(\"pushed \", num1 ,\" to sorted_stack\")\n",
        "                \n",
        "    return sorted_stack\n",
        "    \n",
        "sort_stack()"
      ]
    },
    {
      "cell_type": "code",
      "execution_count": null,
      "metadata": {},
      "outputs": [],
      "source": [
        "        \n",
        "def sort_stack2():\n",
        "    number_stack2 = [3, 1, 2, 4, 5, 7, 9, 8, 10]\n",
        "    sorted_stack2 = []\n",
        "    temp_stack2 = []\n",
        "\n",
        "    while len(number_stack2) > 0:\n",
        "        num1 = number_stack2.pop()\n",
        "        if len(sorted_stack2) == 0 or num1 >= sorted_stack2[-1]:\n",
        "            sorted_stack2.append(num1)\n",
        "        else:\n",
        "            while len(sorted_stack2) > 0 and num1 < sorted_stack2[-1]:\n",
        "                temp_stack2.append(sorted_stack2.pop())\n",
        "            sorted_stack2.append(num1)\n",
        "            while len(temp_stack2) > 0:\n",
        "                sorted_stack2.append(temp_stack2.pop())\n",
        "\n",
        "    return sorted_stack2\n",
        "\n",
        "sorted_result = sort_stack2()\n",
        "print(sorted_result)"
      ]
    }
  ],
  "metadata": {
    "colab": {
      "provenance": []
    },
    "kernelspec": {
      "display_name": "Python 3",
      "language": "python",
      "name": "python3"
    },
    "language_info": {
      "codemirror_mode": {
        "name": "ipython",
        "version": 3
      },
      "file_extension": ".py",
      "mimetype": "text/x-python",
      "name": "python",
      "nbconvert_exporter": "python",
      "pygments_lexer": "ipython3",
      "version": "3.11.3"
    },
    "orig_nbformat": 4
  },
  "nbformat": 4,
  "nbformat_minor": 0
}
